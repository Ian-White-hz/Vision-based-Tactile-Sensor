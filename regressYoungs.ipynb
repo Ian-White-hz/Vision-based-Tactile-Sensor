{
 "cells": [
  {
   "cell_type": "code",
   "execution_count": 1,
   "metadata": {},
   "outputs": [],
   "source": [
    "import glob\n",
    "import os\n",
    "\n",
    "import cv2\n",
    "import matplotlib.pyplot as plt\n",
    "import numpy as np\n",
    "import src.utils as utils\n",
    "from sklearn.model_selection import train_test_split\n",
    "from sklearn.neural_network import MLPRegressor\n",
    "from sklearn.linear_model import LinearRegression, LassoCV, RidgeCV\n",
    "from sklearn.preprocessing import PolynomialFeatures, StandardScaler\n",
    "from src.getDensity import getFilteredDensity\n",
    "import src.utils as utils\n",
    "import pickle\n",
    "from scipy.io import savemat"
   ]
  },
  {
   "cell_type": "code",
   "execution_count": 2,
   "metadata": {},
   "outputs": [
    {
     "name": "stdout",
     "output_type": "stream",
     "text": [
      "Model type:  <class 'sklearn.linear_model._base.LinearRegression'>\n",
      "Mean test error:  30.043760485464965\n"
     ]
    },
    {
     "data": {
      "image/png": "[encoded data removed]",
      "text/plain": [
       "<Figure size 640x480 with 1 Axes>"
      ]
     },
     "metadata": {},
     "output_type": "display_data"
    }
   ],
   "source": [
    "if __name__ == \"__main__\":\n",
    "    path = \"flowdata2\"\n",
    "    exportPath = os.path.join(\"data\", \"densityResult\")\n",
    "    feature = \"raw\"\n",
    "    if feature == \"raw\":\n",
    "        regressor = LinearRegression()\n",
    "    else:\n",
    "        regressor = MLPRegressor(hidden_layer_sizes=(\n",
    "            100,\n",
    "            100,\n",
    "            100,\n",
    "            10,\n",
    "            10,\n",
    "        ),\n",
    "                                 early_stopping=True,\n",
    "                                 max_iter=500)\n",
    "    \n",
    "    total_densityList = []\n",
    "    total_YoungsList = []\n",
    "    total_SList = []\n",
    "\n",
    "    densityList = []\n",
    "    YoungsList = []\n",
    "    SList = []\n",
    "\n",
    "    S = 0\n",
    "\n",
    "    flow_file_list = sorted(glob.glob(\n",
    "            os.path.join(path,\"*.npy\")))\n",
    "    h, w, _ = np.load(flow_file_list[0]).shape\n",
    "    croppedShape = (min(h, w), min(h, w))\n",
    "    x = np.linspace(0.0,\n",
    "                        croppedShape[1] - 30,\n",
    "                        croppedShape[1] - 30,\n",
    "                        endpoint=False)\n",
    "    y = np.linspace(0.0,\n",
    "                        croppedShape[0] - 30,\n",
    "                        croppedShape[0] - 30,\n",
    "                        endpoint=False)\n",
    "    axis = np.array(np.meshgrid(x, y)).transpose((1, 2, 0))\n",
    "\n",
    "    for i in range(len(flow_file_list)):\n",
    "        flow = np.load(flow_file_list[i])\n",
    "           \n",
    "            \n",
    "        density, zero_level = getFilteredDensity(flow, use_cuda=True)\n",
    "        # remapping\n",
    "        density = (density + 1.0) / 1.0\n",
    "        density = (density * 255.0).astype('uint8')\n",
    "\n",
    "        density = density[15:-15,15:-15]\n",
    "\n",
    "\n",
    "\n",
    "        threshold, contact_boundary = utils.getContactBoundary(density)\n",
    "        #density[np.where(density < threshold)] = 0\n",
    "        \"\"\"\n",
    "        if i//10 == 0:\n",
    "            density1 = cv2.applyColorMap(density, cv2.COLORMAP_HOT)\n",
    "            cv2.imshow(\"density\",contact_boundary)\n",
    "            cv2.waitKey(1000)\n",
    "            cv2.destroyAllWindows()\n",
    "        \"\"\"\n",
    "        temp = density.flatten()\n",
    "        temp = temp[temp>=10]\n",
    "\n",
    "        S = len(temp)\n",
    "\n",
    "        SList.append(S)\n",
    "        densityList.append(density.max())\n",
    "\n",
    "        if i>=0 and i<=20:\n",
    "            YoungsList.append(93)\n",
    "        elif i>=21 and i<=41:\n",
    "            YoungsList.append(38)\n",
    "        else:\n",
    "            YoungsList.append(5)\n",
    "        \n",
    "    total_densityList.extend(densityList)\n",
    "    total_YoungsList.extend(YoungsList)\n",
    "    total_SList.extend(SList)\n",
    "\n",
    "    X_1 = np.array(total_densityList)\n",
    "    X_2 = np.array(total_SList)\n",
    "    Y = np.array(total_YoungsList)\n",
    "\n",
    "    X_train, X_test, y_train, y_test = train_test_split(X_2,\n",
    "                                                        Y,\n",
    "                                                        test_size=0.2,\n",
    "                                                        random_state=42)    \n",
    "    X_train.resize(len(X_train),1)\n",
    "    X_test.resize(len(X_test),1)\n",
    "    regressor.fit(X_train, y_train)\n",
    "    print(\"Model type: \", type(regressor))\n",
    "    print(\"Mean test error: \",\n",
    "          np.abs(regressor.predict(X_test) - y_test).mean())\n",
    "    #print(regressor.coef_, regressor.intercept_)\n",
    "    \n",
    "    plt.scatter(X_train,y_train,color='b',label='train data')\n",
    "    test_y_pred=regressor.predict(X_test)\n",
    "    plt.plot(X_test,test_y_pred,color='black',label='best line')\n",
    "#测试集数据的散点图\n",
    "    plt.scatter(X_test,y_test,color='r',label='test data')\n",
    "#坐标轴\n",
    "    plt.xlabel('density')\n",
    "    plt.ylabel('Shore A')\n",
    "    plt.legend(loc=2)\n",
    "    plt.show()"
   ]
  },
  {
   "cell_type": "code",
   "execution_count": 60,
   "metadata": {},
   "outputs": [],
   "source": [
    "test = np.load(flow_file_list[43])\n",
    "img = cv2.imread(\"./pic_raw2/pic-0.jpg\")\n",
    "vis = utils.flowvis(img[20:-20,20:-20],test[20:-20,20:-20])\n",
    "cv2.imshow(\"vis\", vis)\n",
    "cv2.waitKey(1000)\n",
    "cv2.destroyAllWindows()"
   ]
  },
  {
   "cell_type": "code",
   "execution_count": 61,
   "metadata": {},
   "outputs": [
    {
     "data": {
      "text/plain": [
       "34.41579545454545"
      ]
     },
     "execution_count": 61,
     "metadata": {},
     "output_type": "execute_result"
    }
   ],
   "source": [
    "\n",
    "mag, ang = cv2.cartToPolar(test[..., 0], test[..., 1])#将直角坐标系光流场转成极坐标系\n",
    "\n",
    "hsv = np.zeros((test.shape[0], test.shape[1], 3), np.uint8)\n",
    "\n",
    "#光流可视化的颜色模式\n",
    "\n",
    "hsv[..., 0] = ang * 180 / np.pi / 2 #angle弧度转角度\n",
    "hsv[..., 1] = 255\n",
    "hsv[..., 2] = cv2.normalize(mag, None, 0, 255, cv2.NORM_MINMAX)#magnitude归到0～255之间\n",
    "\n",
    "v = hsv[...,2]\n",
    "v.mean()\n",
    "\n"
   ]
  }
 ],
 "metadata": {
  "kernelspec": {
   "display_name": "Vision",
   "language": "python",
   "name": "python3"
  },
  "language_info": {
   "codemirror_mode": {
    "name": "ipython",
    "version": 3
   },
   "file_extension": ".py",
   "mimetype": "text/x-python",
   "name": "python",
   "nbconvert_exporter": "python",
   "pygments_lexer": "ipython3",
   "version": "3.7.13"
  },
  "orig_nbformat": 4
 },
 "nbformat": 4,
 "nbformat_minor": 2
}
